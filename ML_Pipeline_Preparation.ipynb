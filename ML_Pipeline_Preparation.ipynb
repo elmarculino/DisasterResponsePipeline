{
 "cells": [
  {
   "cell_type": "markdown",
   "metadata": {},
   "source": [
    "# ML Pipeline Preparation\n",
    "Follow the instructions below to help you create your ML pipeline.\n",
    "### 1. Import libraries and load data from database.\n",
    "- Import Python libraries\n",
    "- Load dataset from database with [`read_sql_table`](https://pandas.pydata.org/pandas-docs/stable/generated/pandas.read_sql_table.html)\n",
    "- Define feature and target variables X and Y"
   ]
  },
  {
   "cell_type": "code",
   "execution_count": 2,
   "metadata": {},
   "outputs": [
    {
     "name": "stderr",
     "output_type": "stream",
     "text": [
      "[nltk_data] Downloading package punkt to /home/marco/nltk_data...\n",
      "[nltk_data]   Package punkt is already up-to-date!\n",
      "[nltk_data] Downloading package wordnet to /home/marco/nltk_data...\n",
      "[nltk_data]   Package wordnet is already up-to-date!\n",
      "[nltk_data] Downloading package stopwords to /home/marco/nltk_data...\n",
      "[nltk_data]   Package stopwords is already up-to-date!\n"
     ]
    }
   ],
   "source": [
    "# import libraries\n",
    "import pandas as pd\n",
    "from sqlalchemy import create_engine\n",
    "\n",
    "import re\n",
    "import pickle\n",
    "import nltk\n",
    "from nltk.tokenize import word_tokenize\n",
    "from nltk.corpus import stopwords\n",
    "from nltk.stem import WordNetLemmatizer\n",
    "\n",
    "from sklearn.multioutput import MultiOutputClassifier\n",
    "from sklearn.ensemble import RandomForestClassifier, AdaBoostClassifier\n",
    "from sklearn.tree import DecisionTreeClassifier\n",
    "from sklearn.pipeline import Pipeline, FeatureUnion, TransformerMixin\n",
    "from sklearn.model_selection import train_test_split, GridSearchCV\n",
    "from sklearn.feature_extraction.text import CountVectorizer, TfidfTransformer\n",
    "from sklearn.metrics import f1_score, recall_score, precision_score, classification_report, accuracy_score\n",
    "\n",
    "import warnings\n",
    "warnings.simplefilter(action='ignore', category=FutureWarning)\n",
    "nltk.download(['punkt','wordnet','stopwords'])\n",
    "\n",
    "random_state = 99"
   ]
  },
  {
   "cell_type": "code",
   "execution_count": 3,
   "metadata": {},
   "outputs": [],
   "source": [
    "# load data from database\n",
    "engine = create_engine('sqlite:///data/DisasterResponse.db')\n",
    "df = pd.read_sql_table('messages', engine)\n",
    "X = df['message'] \n",
    "Y = df.iloc[:,4:]"
   ]
  },
  {
   "cell_type": "markdown",
   "metadata": {},
   "source": [
    "### 2. Write a tokenization function to process your text data"
   ]
  },
  {
   "cell_type": "code",
   "execution_count": 4,
   "metadata": {},
   "outputs": [],
   "source": [
    "def tokenize(text):\n",
    "    lemmatizer = WordNetLemmatizer()    \n",
    "    text = re.sub(r\"[^a-zA-Z]\", \" \", text.lower()) \n",
    "    tokens = word_tokenize(text)\n",
    "    \n",
    "    return [lemmatizer.lemmatize(t).strip() for t in tokens if t not in stopwords.words(\"english\")]"
   ]
  },
  {
   "cell_type": "markdown",
   "metadata": {},
   "source": [
    "### 3. Build a machine learning pipeline\n",
    "This machine pipeline should take in the `message` column as input and output classification results on the other 36 categories in the dataset. You may find the [MultiOutputClassifier](http://scikit-learn.org/stable/modules/generated/sklearn.multioutput.MultiOutputClassifier.html) helpful for predicting multiple target variables."
   ]
  },
  {
   "cell_type": "code",
   "execution_count": 5,
   "metadata": {},
   "outputs": [],
   "source": [
    "pipeline = Pipeline([\n",
    "    ('vect', CountVectorizer(tokenizer=tokenize)),\n",
    "    ('tfidf', TfidfTransformer()),\n",
    "    ('moc', MultiOutputClassifier(RandomForestClassifier(random_state=random_state)))\n",
    "])"
   ]
  },
  {
   "cell_type": "markdown",
   "metadata": {},
   "source": [
    "### 4. Train pipeline\n",
    "- Split data into train and test sets\n",
    "- Train pipeline"
   ]
  },
  {
   "cell_type": "code",
   "execution_count": 6,
   "metadata": {},
   "outputs": [],
   "source": [
    "X_train, X_test, Y_train, Y_test = train_test_split(X, Y, test_size = 0.2, random_state = random_state)"
   ]
  },
  {
   "cell_type": "code",
   "execution_count": 7,
   "metadata": {},
   "outputs": [
    {
     "data": {
      "text/plain": [
       "Pipeline(memory=None,\n",
       "         steps=[('vect',\n",
       "                 CountVectorizer(analyzer='word', binary=False,\n",
       "                                 decode_error='strict',\n",
       "                                 dtype=<class 'numpy.int64'>, encoding='utf-8',\n",
       "                                 input='content', lowercase=True, max_df=1.0,\n",
       "                                 max_features=None, min_df=1,\n",
       "                                 ngram_range=(1, 1), preprocessor=None,\n",
       "                                 stop_words=None, strip_accents=None,\n",
       "                                 token_pattern='(?u)\\\\b\\\\w\\\\w+\\\\b',\n",
       "                                 tokenizer=<function tokenize at...\n",
       "                                                                        ccp_alpha=0.0,\n",
       "                                                                        class_weight=None,\n",
       "                                                                        criterion='gini',\n",
       "                                                                        max_depth=None,\n",
       "                                                                        max_features='auto',\n",
       "                                                                        max_leaf_nodes=None,\n",
       "                                                                        max_samples=None,\n",
       "                                                                        min_impurity_decrease=0.0,\n",
       "                                                                        min_impurity_split=None,\n",
       "                                                                        min_samples_leaf=1,\n",
       "                                                                        min_samples_split=2,\n",
       "                                                                        min_weight_fraction_leaf=0.0,\n",
       "                                                                        n_estimators=100,\n",
       "                                                                        n_jobs=None,\n",
       "                                                                        oob_score=False,\n",
       "                                                                        random_state=99,\n",
       "                                                                        verbose=0,\n",
       "                                                                        warm_start=False),\n",
       "                                       n_jobs=None))],\n",
       "         verbose=False)"
      ]
     },
     "execution_count": 7,
     "metadata": {},
     "output_type": "execute_result"
    }
   ],
   "source": [
    "pipeline.fit(X_train, Y_train)"
   ]
  },
  {
   "cell_type": "markdown",
   "metadata": {},
   "source": [
    "### 5. Test your model\n",
    "Report the f1 score, precision and recall for each output category of the dataset. You can do this by iterating through the columns and calling sklearn's `classification_report` on each."
   ]
  },
  {
   "cell_type": "code",
   "execution_count": 8,
   "metadata": {},
   "outputs": [],
   "source": [
    "y_pred_train = pipeline.predict(X_train)\n",
    "print(classification_report(Y_train.values, y_pred_train, target_names=Y.columns.values))"
   ]
  },
  {
   "cell_type": "code",
   "execution_count": 9,
   "metadata": {},
   "outputs": [
    {
     "name": "stdout",
     "output_type": "stream",
     "text": [
      "                        precision    recall  f1-score   support\n",
      "\n",
      "               request       0.82      0.50      0.62       902\n",
      "                 offer       0.00      0.00      0.00        22\n",
      "           aid_related       0.76      0.68      0.72      2187\n",
      "          medical_help       0.52      0.06      0.10       444\n",
      "      medical_products       0.76      0.15      0.25       256\n",
      "     search_and_rescue       0.71      0.04      0.07       129\n",
      "              security       0.00      0.00      0.00       100\n",
      "              military       0.77      0.05      0.10       197\n",
      "           child_alone       0.00      0.00      0.00         0\n",
      "                 water       0.91      0.38      0.53       306\n",
      "                  food       0.86      0.59      0.70       578\n",
      "               shelter       0.83      0.38      0.52       453\n",
      "              clothing       0.89      0.10      0.18        81\n",
      "                 money       0.71      0.04      0.08       117\n",
      "        missing_people       0.00      0.00      0.00        59\n",
      "              refugees       0.53      0.05      0.09       173\n",
      "                 death       0.75      0.17      0.27       226\n",
      "             other_aid       0.63      0.03      0.06       692\n",
      "infrastructure_related       1.00      0.00      0.01       354\n",
      "             transport       0.77      0.10      0.17       244\n",
      "             buildings       0.67      0.16      0.26       265\n",
      "           electricity       0.60      0.03      0.05       113\n",
      "                 tools       0.00      0.00      0.00        27\n",
      "             hospitals       1.00      0.02      0.03        62\n",
      "                 shops       0.00      0.00      0.00        23\n",
      "           aid_centers       0.00      0.00      0.00        53\n",
      "  other_infrastructure       0.00      0.00      0.00       252\n",
      "       weather_related       0.85      0.70      0.76      1450\n",
      "                floods       0.93      0.43      0.59       453\n",
      "                 storm       0.77      0.54      0.64       499\n",
      "                  fire       0.00      0.00      0.00        60\n",
      "            earthquake       0.89      0.81      0.84       473\n",
      "                  cold       0.80      0.12      0.21       100\n",
      "         other_weather       0.55      0.04      0.08       288\n",
      "         direct_report       0.79      0.38      0.51      1000\n",
      "\n",
      "             micro avg       0.80      0.40      0.54     12638\n",
      "             macro avg       0.57      0.19      0.24     12638\n",
      "          weighted avg       0.74      0.40      0.47     12638\n",
      "           samples avg       0.41      0.24      0.28     12638\n",
      "\n"
     ]
    },
    {
     "name": "stderr",
     "output_type": "stream",
     "text": [
      "/home/marco/anaconda3/envs/fastai/lib/python3.6/site-packages/sklearn/metrics/_classification.py:1272: UndefinedMetricWarning: Precision and F-score are ill-defined and being set to 0.0 in labels with no predicted samples. Use `zero_division` parameter to control this behavior.\n",
      "  _warn_prf(average, modifier, msg_start, len(result))\n",
      "/home/marco/anaconda3/envs/fastai/lib/python3.6/site-packages/sklearn/metrics/_classification.py:1272: UndefinedMetricWarning: Recall and F-score are ill-defined and being set to 0.0 in labels with no true samples. Use `zero_division` parameter to control this behavior.\n",
      "  _warn_prf(average, modifier, msg_start, len(result))\n",
      "/home/marco/anaconda3/envs/fastai/lib/python3.6/site-packages/sklearn/metrics/_classification.py:1272: UndefinedMetricWarning: Precision and F-score are ill-defined and being set to 0.0 in samples with no predicted labels. Use `zero_division` parameter to control this behavior.\n",
      "  _warn_prf(average, modifier, msg_start, len(result))\n",
      "/home/marco/anaconda3/envs/fastai/lib/python3.6/site-packages/sklearn/metrics/_classification.py:1272: UndefinedMetricWarning: Recall and F-score are ill-defined and being set to 0.0 in samples with no true labels. Use `zero_division` parameter to control this behavior.\n",
      "  _warn_prf(average, modifier, msg_start, len(result))\n"
     ]
    }
   ],
   "source": [
    "y_pred_test = pipeline.predict(X_test)\n",
    "print(classification_report(Y_test.values, y_pred_test, target_names=Y.columns.values))"
   ]
  },
  {
   "cell_type": "markdown",
   "metadata": {},
   "source": [
    "### 6. Improve your model\n",
    "Use grid search to find better parameters. "
   ]
  },
  {
   "cell_type": "code",
   "execution_count": 10,
   "metadata": {},
   "outputs": [
    {
     "data": {
      "text/plain": [
       "['memory',\n",
       " 'moc',\n",
       " 'moc__estimator',\n",
       " 'moc__estimator__bootstrap',\n",
       " 'moc__estimator__ccp_alpha',\n",
       " 'moc__estimator__class_weight',\n",
       " 'moc__estimator__criterion',\n",
       " 'moc__estimator__max_depth',\n",
       " 'moc__estimator__max_features',\n",
       " 'moc__estimator__max_leaf_nodes',\n",
       " 'moc__estimator__max_samples',\n",
       " 'moc__estimator__min_impurity_decrease',\n",
       " 'moc__estimator__min_impurity_split',\n",
       " 'moc__estimator__min_samples_leaf',\n",
       " 'moc__estimator__min_samples_split',\n",
       " 'moc__estimator__min_weight_fraction_leaf',\n",
       " 'moc__estimator__n_estimators',\n",
       " 'moc__estimator__n_jobs',\n",
       " 'moc__estimator__oob_score',\n",
       " 'moc__estimator__random_state',\n",
       " 'moc__estimator__verbose',\n",
       " 'moc__estimator__warm_start',\n",
       " 'moc__n_jobs',\n",
       " 'steps',\n",
       " 'tfidf',\n",
       " 'tfidf__norm',\n",
       " 'tfidf__smooth_idf',\n",
       " 'tfidf__sublinear_tf',\n",
       " 'tfidf__use_idf',\n",
       " 'vect',\n",
       " 'vect__analyzer',\n",
       " 'vect__binary',\n",
       " 'vect__decode_error',\n",
       " 'vect__dtype',\n",
       " 'vect__encoding',\n",
       " 'vect__input',\n",
       " 'vect__lowercase',\n",
       " 'vect__max_df',\n",
       " 'vect__max_features',\n",
       " 'vect__min_df',\n",
       " 'vect__ngram_range',\n",
       " 'vect__preprocessor',\n",
       " 'vect__stop_words',\n",
       " 'vect__strip_accents',\n",
       " 'vect__token_pattern',\n",
       " 'vect__tokenizer',\n",
       " 'vect__vocabulary',\n",
       " 'verbose']"
      ]
     },
     "execution_count": 10,
     "metadata": {},
     "output_type": "execute_result"
    }
   ],
   "source": [
    "sorted(pipeline.get_params().keys())"
   ]
  },
  {
   "cell_type": "code",
   "execution_count": null,
   "metadata": {},
   "outputs": [],
   "source": [
    "parameters = {\n",
    "    'vect__ngram_range':((1,1),(1,2)),\n",
    "    'tfidf__use_idf': (True, False),\n",
    "    'moc__estimator__n_estimators': [ 50, 100 ],\n",
    "    'moc__estimator__max_depth': [ 3, 5 ],\n",
    "}\n",
    "\n",
    "cv = GridSearchCV(estimator = pipeline, param_grid = parameters, n_jobs= 12)"
   ]
  },
  {
   "cell_type": "code",
   "execution_count": 68,
   "metadata": {},
   "outputs": [
    {
     "name": "stdout",
     "output_type": "stream",
     "text": [
      "CPU times: user 4 µs, sys: 0 ns, total: 4 µs\n",
      "Wall time: 6.2 µs\n"
     ]
    },
    {
     "name": "stderr",
     "output_type": "stream",
     "text": [
      "/home/marco/anaconda3/envs/fastai/lib/python3.6/site-packages/joblib/externals/loky/process_executor.py:691: UserWarning: A worker stopped while some jobs were given to the executor. This can be caused by a too short worker timeout or by a memory leak.\n",
      "  \"timeout or by a memory leak.\", UserWarning\n"
     ]
    },
    {
     "data": {
      "text/plain": [
       "GridSearchCV(cv=None, error_score=nan,\n",
       "             estimator=Pipeline(memory=None,\n",
       "                                steps=[('vect',\n",
       "                                        CountVectorizer(analyzer='word',\n",
       "                                                        binary=False,\n",
       "                                                        decode_error='strict',\n",
       "                                                        dtype=<class 'numpy.int64'>,\n",
       "                                                        encoding='utf-8',\n",
       "                                                        input='content',\n",
       "                                                        lowercase=True,\n",
       "                                                        max_df=1.0,\n",
       "                                                        max_features=None,\n",
       "                                                        min_df=1,\n",
       "                                                        ngram_range=(1, 1),\n",
       "                                                        preprocessor=None,\n",
       "                                                        stop_words=None,\n",
       "                                                        strip_accents=None,\n",
       "                                                        token_pattern='(...\n",
       "                                                                                               min_samples_split=2,\n",
       "                                                                                               min_weight_fraction_leaf=0.0,\n",
       "                                                                                               n_estimators=100,\n",
       "                                                                                               n_jobs=None,\n",
       "                                                                                               oob_score=False,\n",
       "                                                                                               random_state=99,\n",
       "                                                                                               verbose=0,\n",
       "                                                                                               warm_start=False),\n",
       "                                                              n_jobs=None))],\n",
       "                                verbose=False),\n",
       "             iid='deprecated', n_jobs=12,\n",
       "             param_grid={'moc__estimator__n_estimators': [50, 100],\n",
       "                         'vect__ngram_range': ((1, 1), (1, 2))},\n",
       "             pre_dispatch='2*n_jobs', refit=True, return_train_score=False,\n",
       "             scoring=None, verbose=0)"
      ]
     },
     "execution_count": 68,
     "metadata": {},
     "output_type": "execute_result"
    }
   ],
   "source": [
    "%time\n",
    "\n",
    "cv.fit(X_train, Y_train)"
   ]
  },
  {
   "cell_type": "code",
   "execution_count": 11,
   "metadata": {},
   "outputs": [
    {
     "data": {
      "text/plain": [
       "0.4356759727699995"
      ]
     },
     "execution_count": 11,
     "metadata": {},
     "output_type": "execute_result"
    }
   ],
   "source": [
    "cv.best_score_"
   ]
  },
  {
   "cell_type": "code",
   "execution_count": 12,
   "metadata": {},
   "outputs": [
    {
     "data": {
      "text/plain": [
       "{'moc__estimator__max_depth': 3,\n",
       " 'moc__estimator__n_estimators': 50,\n",
       " 'vect__min_df': 1,\n",
       " 'vect__ngram_range': (1, 2)}"
      ]
     },
     "execution_count": 12,
     "metadata": {},
     "output_type": "execute_result"
    }
   ],
   "source": [
    "cv.best_params_"
   ]
  },
  {
   "cell_type": "markdown",
   "metadata": {},
   "source": [
    "### 7. Test your model\n",
    "Show the accuracy, precision, and recall of the tuned model.  \n",
    "\n",
    "Since this project focuses on code quality, process, and  pipelines, there is no minimum performance metric needed to pass. However, make sure to fine tune your models for accuracy, precision and recall to make your project stand out - especially for your portfolio!"
   ]
  },
  {
   "cell_type": "code",
   "execution_count": 71,
   "metadata": {},
   "outputs": [],
   "source": [
    "best_model = cv.best_estimator_"
   ]
  },
  {
   "cell_type": "code",
   "execution_count": 72,
   "metadata": {},
   "outputs": [
    {
     "name": "stdout",
     "output_type": "stream",
     "text": [
      "                        precision    recall  f1-score   support\n",
      "\n",
      "               request       1.00      0.99      1.00      3572\n",
      "                 offer       1.00      0.99      0.99        96\n",
      "           aid_related       1.00      1.00      1.00      8673\n",
      "          medical_help       1.00      0.99      1.00      1640\n",
      "      medical_products       1.00      1.00      1.00      1057\n",
      "     search_and_rescue       1.00      1.00      1.00       595\n",
      "              security       1.00      0.98      0.99       371\n",
      "              military       1.00      0.99      1.00       663\n",
      "           child_alone       0.00      0.00      0.00         0\n",
      "                 water       1.00      1.00      1.00      1366\n",
      "                  food       1.00      1.00      1.00      2345\n",
      "               shelter       1.00      1.00      1.00      1861\n",
      "              clothing       1.00      1.00      1.00       324\n",
      "                 money       1.00      1.00      1.00       487\n",
      "        missing_people       1.00      1.00      1.00       239\n",
      "              refugees       1.00      1.00      1.00       702\n",
      "                 death       1.00      1.00      1.00       968\n",
      "             other_aid       1.00      1.00      1.00      2754\n",
      "infrastructure_related       1.00      1.00      1.00      1351\n",
      "             transport       1.00      0.99      1.00       957\n",
      "             buildings       1.00      1.00      1.00      1068\n",
      "           electricity       1.00      1.00      1.00       419\n",
      "                 tools       1.00      0.98      0.99       132\n",
      "             hospitals       1.00      1.00      1.00       221\n",
      "                 shops       1.00      1.00      1.00        97\n",
      "           aid_centers       1.00      1.00      1.00       256\n",
      "  other_infrastructure       1.00      1.00      1.00       899\n",
      "       weather_related       1.00      1.00      1.00      5847\n",
      "                floods       1.00      1.00      1.00      1702\n",
      "                 storm       1.00      1.00      1.00      1944\n",
      "                  fire       1.00      1.00      1.00       222\n",
      "            earthquake       1.00      1.00      1.00      1982\n",
      "                  cold       1.00      1.00      1.00       430\n",
      "         other_weather       1.00      0.99      1.00      1088\n",
      "         direct_report       1.00      1.00      1.00      4075\n",
      "\n",
      "             micro avg       1.00      1.00      1.00     50403\n",
      "             macro avg       0.97      0.97      0.97     50403\n",
      "          weighted avg       1.00      1.00      1.00     50403\n",
      "           samples avg       0.56      0.56      0.56     50403\n",
      "\n"
     ]
    },
    {
     "name": "stderr",
     "output_type": "stream",
     "text": [
      "/home/marco/anaconda3/envs/fastai/lib/python3.6/site-packages/sklearn/metrics/_classification.py:1272: UndefinedMetricWarning: Precision and F-score are ill-defined and being set to 0.0 in labels with no predicted samples. Use `zero_division` parameter to control this behavior.\n",
      "  _warn_prf(average, modifier, msg_start, len(result))\n",
      "/home/marco/anaconda3/envs/fastai/lib/python3.6/site-packages/sklearn/metrics/_classification.py:1272: UndefinedMetricWarning: Recall and F-score are ill-defined and being set to 0.0 in labels with no true samples. Use `zero_division` parameter to control this behavior.\n",
      "  _warn_prf(average, modifier, msg_start, len(result))\n",
      "/home/marco/anaconda3/envs/fastai/lib/python3.6/site-packages/sklearn/metrics/_classification.py:1272: UndefinedMetricWarning: Precision and F-score are ill-defined and being set to 0.0 in samples with no predicted labels. Use `zero_division` parameter to control this behavior.\n",
      "  _warn_prf(average, modifier, msg_start, len(result))\n",
      "/home/marco/anaconda3/envs/fastai/lib/python3.6/site-packages/sklearn/metrics/_classification.py:1272: UndefinedMetricWarning: Recall and F-score are ill-defined and being set to 0.0 in samples with no true labels. Use `zero_division` parameter to control this behavior.\n",
      "  _warn_prf(average, modifier, msg_start, len(result))\n"
     ]
    }
   ],
   "source": [
    "y_pred_train = best_model.predict(X_train)\n",
    "print(classification_report(Y_train.values, y_pred_train, target_names=Y.columns.values))"
   ]
  },
  {
   "cell_type": "code",
   "execution_count": 73,
   "metadata": {},
   "outputs": [
    {
     "name": "stdout",
     "output_type": "stream",
     "text": [
      "                        precision    recall  f1-score   support\n",
      "\n",
      "               request       0.82      0.49      0.61       902\n",
      "                 offer       0.00      0.00      0.00        22\n",
      "           aid_related       0.77      0.64      0.70      2187\n",
      "          medical_help       0.63      0.06      0.11       444\n",
      "      medical_products       0.75      0.11      0.18       256\n",
      "     search_and_rescue       0.83      0.08      0.14       129\n",
      "              security       0.00      0.00      0.00       100\n",
      "              military       0.64      0.05      0.09       197\n",
      "           child_alone       0.00      0.00      0.00         0\n",
      "                 water       0.86      0.44      0.58       306\n",
      "                  food       0.87      0.53      0.66       578\n",
      "               shelter       0.81      0.36      0.50       453\n",
      "              clothing       0.80      0.10      0.18        81\n",
      "                 money       0.83      0.04      0.08       117\n",
      "        missing_people       1.00      0.03      0.07        59\n",
      "              refugees       0.58      0.06      0.11       173\n",
      "                 death       0.84      0.23      0.37       226\n",
      "             other_aid       0.54      0.03      0.06       692\n",
      "infrastructure_related       0.00      0.00      0.00       354\n",
      "             transport       0.70      0.06      0.11       244\n",
      "             buildings       0.76      0.16      0.26       265\n",
      "           electricity       1.00      0.02      0.03       113\n",
      "                 tools       0.00      0.00      0.00        27\n",
      "             hospitals       1.00      0.02      0.03        62\n",
      "                 shops       0.00      0.00      0.00        23\n",
      "           aid_centers       0.00      0.00      0.00        53\n",
      "  other_infrastructure       0.00      0.00      0.00       252\n",
      "       weather_related       0.85      0.63      0.72      1450\n",
      "                floods       0.92      0.37      0.52       453\n",
      "                 storm       0.82      0.38      0.52       499\n",
      "                  fire       1.00      0.02      0.03        60\n",
      "            earthquake       0.88      0.78      0.83       473\n",
      "                  cold       0.82      0.09      0.16       100\n",
      "         other_weather       0.39      0.02      0.05       288\n",
      "         direct_report       0.78      0.37      0.51      1000\n",
      "\n",
      "             micro avg       0.81      0.37      0.51     12638\n",
      "             macro avg       0.61      0.18      0.23     12638\n",
      "          weighted avg       0.73      0.37      0.45     12638\n",
      "           samples avg       0.39      0.22      0.26     12638\n",
      "\n"
     ]
    },
    {
     "name": "stderr",
     "output_type": "stream",
     "text": [
      "/home/marco/anaconda3/envs/fastai/lib/python3.6/site-packages/sklearn/metrics/_classification.py:1272: UndefinedMetricWarning: Precision and F-score are ill-defined and being set to 0.0 in labels with no predicted samples. Use `zero_division` parameter to control this behavior.\n",
      "  _warn_prf(average, modifier, msg_start, len(result))\n",
      "/home/marco/anaconda3/envs/fastai/lib/python3.6/site-packages/sklearn/metrics/_classification.py:1272: UndefinedMetricWarning: Recall and F-score are ill-defined and being set to 0.0 in labels with no true samples. Use `zero_division` parameter to control this behavior.\n",
      "  _warn_prf(average, modifier, msg_start, len(result))\n",
      "/home/marco/anaconda3/envs/fastai/lib/python3.6/site-packages/sklearn/metrics/_classification.py:1272: UndefinedMetricWarning: Precision and F-score are ill-defined and being set to 0.0 in samples with no predicted labels. Use `zero_division` parameter to control this behavior.\n",
      "  _warn_prf(average, modifier, msg_start, len(result))\n",
      "/home/marco/anaconda3/envs/fastai/lib/python3.6/site-packages/sklearn/metrics/_classification.py:1272: UndefinedMetricWarning: Recall and F-score are ill-defined and being set to 0.0 in samples with no true labels. Use `zero_division` parameter to control this behavior.\n",
      "  _warn_prf(average, modifier, msg_start, len(result))\n"
     ]
    }
   ],
   "source": [
    "y_pred_test = best_model.predict(X_test)\n",
    "print(classification_report(Y_test.values, y_pred_test, target_names=Y.columns.values))"
   ]
  },
  {
   "cell_type": "markdown",
   "metadata": {},
   "source": [
    "### 8. Try improving your model further. Here are a few ideas:\n",
    "* try other machine learning algorithms\n",
    "* add other features besides the TF-IDF"
   ]
  },
  {
   "cell_type": "code",
   "execution_count": null,
   "metadata": {},
   "outputs": [],
   "source": [
    "pipeline_2 = Pipeline([\n",
    "    ('vect', CountVectorizer(tokenizer=tokenize)),\n",
    "    ('tfidf', TfidfTransformer()),\n",
    "    ('moc', MultiOutputClassifier(AdaBoostClassifier()))\n",
    "])"
   ]
  },
  {
   "cell_type": "code",
   "execution_count": 8,
   "metadata": {},
   "outputs": [],
   "source": [
    "cv = pipeline"
   ]
  },
  {
   "cell_type": "markdown",
   "metadata": {},
   "source": [
    "### 9. Export your model as a pickle file"
   ]
  },
  {
   "cell_type": "code",
   "execution_count": 9,
   "metadata": {},
   "outputs": [],
   "source": [
    "pickle.dump(cv, open('models/classifier.pkl', 'wb'))"
   ]
  },
  {
   "cell_type": "markdown",
   "metadata": {},
   "source": [
    "### 10. Use this notebook to complete `train.py`\n",
    "Use the template file attached in the Resources folder to write a script that runs the steps above to create a database and export a model based on a new dataset specified by the user."
   ]
  },
  {
   "cell_type": "code",
   "execution_count": null,
   "metadata": {},
   "outputs": [],
   "source": []
  }
 ],
 "metadata": {
  "kernelspec": {
   "display_name": "Python 3",
   "language": "python",
   "name": "python3"
  },
  "language_info": {
   "codemirror_mode": {
    "name": "ipython",
    "version": 3
   },
   "file_extension": ".py",
   "mimetype": "text/x-python",
   "name": "python",
   "nbconvert_exporter": "python",
   "pygments_lexer": "ipython3",
   "version": "3.6.10"
  }
 },
 "nbformat": 4,
 "nbformat_minor": 4
}
